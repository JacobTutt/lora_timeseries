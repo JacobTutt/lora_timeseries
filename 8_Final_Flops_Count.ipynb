{
 "cells": [
  {
   "cell_type": "markdown",
   "metadata": {},
   "source": [
    "# Total Flops Used Across All Steps in this Project\n",
    "- Does not include those associated with autoregressive generation which is preformed during testing/ preformance analysis. (As intructed)"
   ]
  },
  {
   "cell_type": "code",
   "execution_count": 7,
   "metadata": {},
   "outputs": [],
   "source": [
    "from src import flops_in_folder"
   ]
  },
  {
   "cell_type": "markdown",
   "metadata": {},
   "source": [
    "## Overall \n",
    "### 62.273% of budget"
   ]
  },
  {
   "cell_type": "code",
   "execution_count": 8,
   "metadata": {},
   "outputs": [
    {
     "name": "stdout",
     "output_type": "stream",
     "text": [
      "Number of unique result files: 18\n",
      "Total Training FLOPs: 5.772e+16\n",
      "Total Evaluation FLOPs: 7.830e+15\n",
      "Total Combined FLOPs: 6.555e+16\n",
      "Percentage of Total FLOPs Budget:   65.547 %\n"
     ]
    }
   ],
   "source": [
    "_, _, _ = flops_in_folder('results')"
   ]
  },
  {
   "cell_type": "markdown",
   "metadata": {},
   "source": [
    "## Base Model Evaluation"
   ]
  },
  {
   "cell_type": "code",
   "execution_count": 9,
   "metadata": {},
   "outputs": [
    {
     "name": "stdout",
     "output_type": "stream",
     "text": [
      "Number of unique result files: 1\n",
      "Total Training FLOPs: 0.000e+00\n",
      "Total Evaluation FLOPs: 1.810e+14\n",
      "Total Combined FLOPs: 1.810e+14\n",
      "Percentage of Total FLOPs Budget:   0.18103 %\n"
     ]
    }
   ],
   "source": [
    "_, _, _ = flops_in_folder('results/Baseline')"
   ]
  },
  {
   "cell_type": "markdown",
   "metadata": {},
   "source": [
    "## Default/Intial Training and Evaluation"
   ]
  },
  {
   "cell_type": "code",
   "execution_count": 10,
   "metadata": {},
   "outputs": [
    {
     "name": "stdout",
     "output_type": "stream",
     "text": [
      "Number of unique result files: 2\n",
      "Total Training FLOPs: 6.159e+15\n",
      "Total Evaluation FLOPs: 4.498e+14\n",
      "Total Combined FLOPs: 6.609e+15\n",
      "Percentage of Total FLOPs Budget:   6.6085 %\n"
     ]
    }
   ],
   "source": [
    "_, _, _ = flops_in_folder('results/Initial_Lora')"
   ]
  },
  {
   "cell_type": "markdown",
   "metadata": {},
   "source": [
    "## Hyperparameter Tuning"
   ]
  },
  {
   "cell_type": "code",
   "execution_count": 11,
   "metadata": {},
   "outputs": [
    {
     "name": "stdout",
     "output_type": "stream",
     "text": [
      "Number of unique result files: 11\n",
      "Total Training FLOPs: 3.881e+16\n",
      "Total Evaluation FLOPs: 5.559e+15\n",
      "Total Combined FLOPs: 4.437e+16\n",
      "Percentage of Total FLOPs Budget:   44.367 %\n"
     ]
    }
   ],
   "source": [
    "_, _, _ = flops_in_folder('results/Hyperparam')"
   ]
  },
  {
   "cell_type": "markdown",
   "metadata": {},
   "source": [
    "## Final Training and Evaluation"
   ]
  },
  {
   "cell_type": "code",
   "execution_count": 12,
   "metadata": {},
   "outputs": [
    {
     "name": "stdout",
     "output_type": "stream",
     "text": [
      "Number of unique result files: 3\n",
      "Total Training FLOPs: 1.275e+16\n",
      "Total Evaluation FLOPs: 1.640e+15\n",
      "Total Combined FLOPs: 1.439e+16\n",
      "Percentage of Total FLOPs Budget:   14.39 %\n"
     ]
    }
   ],
   "source": [
    "_, _, _ = flops_in_folder('results/Final')"
   ]
  }
 ],
 "metadata": {
  "kernelspec": {
   "display_name": "Python (M2.5 Coursework)",
   "language": "python",
   "name": "m3cw5_py312"
  },
  "language_info": {
   "codemirror_mode": {
    "name": "ipython",
    "version": 3
   },
   "file_extension": ".py",
   "mimetype": "text/x-python",
   "name": "python",
   "nbconvert_exporter": "python",
   "pygments_lexer": "ipython3",
   "version": "3.12.7"
  }
 },
 "nbformat": 4,
 "nbformat_minor": 2
}
