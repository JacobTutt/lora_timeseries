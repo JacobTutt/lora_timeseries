{
 "cells": [
  {
   "cell_type": "markdown",
   "metadata": {},
   "source": [
    "# Total Flops Used Across All Steps in this Project\n",
    "- Does not include those associated with autoregressive generation which is preformed during testing/ preformance analysis. (As intructed)"
   ]
  },
  {
   "cell_type": "code",
   "execution_count": 1,
   "metadata": {},
   "outputs": [],
   "source": [
    "from src import flops_in_folder"
   ]
  },
  {
   "cell_type": "markdown",
   "metadata": {},
   "source": [
    "## Overall \n",
    "### 65.755% of budget\n",
    "- Due to the expected speed of convergence with default hyperparameters, early stopping was intialised after just 1150 steps (patie"
   ]
  },
  {
   "cell_type": "code",
   "execution_count": 2,
   "metadata": {},
   "outputs": [
    {
     "name": "stdout",
     "output_type": "stream",
     "text": [
      "Number of unique result files: 20\n",
      "Total Training FLOPs: 5.772e+16\n",
      "Total Evaluation FLOPs: 8.038e+15\n",
      "Total Combined FLOPs: 6.576e+16\n",
      "Percentage of Total FLOPs Budget:   65.755 %\n"
     ]
    }
   ],
   "source": [
    "_, _, _ = flops_in_folder('results')"
   ]
  },
  {
   "cell_type": "markdown",
   "metadata": {},
   "source": [
    "## Base Model Evaluation"
   ]
  },
  {
   "cell_type": "code",
   "execution_count": 3,
   "metadata": {},
   "outputs": [
    {
     "name": "stdout",
     "output_type": "stream",
     "text": [
      "Number of unique result files: 1\n",
      "Total Training FLOPs: 0.000e+00\n",
      "Total Evaluation FLOPs: 1.810e+14\n",
      "Total Combined FLOPs: 1.810e+14\n",
      "Percentage of Total FLOPs Budget:   0.18103 %\n"
     ]
    }
   ],
   "source": [
    "_, _, _ = flops_in_folder('results/Baseline')"
   ]
  },
  {
   "cell_type": "markdown",
   "metadata": {},
   "source": [
    "## Default/Intial Training and Evaluation"
   ]
  },
  {
   "cell_type": "code",
   "execution_count": 4,
   "metadata": {},
   "outputs": [
    {
     "name": "stdout",
     "output_type": "stream",
     "text": [
      "Number of unique result files: 4\n",
      "Total Training FLOPs: 6.159e+15\n",
      "Total Evaluation FLOPs: 6.581e+14\n",
      "Total Combined FLOPs: 6.817e+15\n",
      "Percentage of Total FLOPs Budget:   6.8168 %\n"
     ]
    }
   ],
   "source": [
    "_, _, _ = flops_in_folder('results/Initial_Lora')"
   ]
  },
  {
   "cell_type": "markdown",
   "metadata": {},
   "source": [
    "## Breakdown\n",
    "- Overfitting Single Trajecotory\n",
    "- Training\n",
    "- Evaluation with "
   ]
  },
  {
   "cell_type": "code",
   "execution_count": 7,
   "metadata": {},
   "outputs": [
    {
     "name": "stdout",
     "output_type": "stream",
     "text": [
      "Number of unique result files: 1\n",
      "Total Training FLOPs: 3.623e+14\n",
      "Total Evaluation FLOPs: 9.057e+13\n",
      "Total Combined FLOPs: 4.528e+14\n",
      "Percentage of Total FLOPs Budget:   0.45285 %\n"
     ]
    }
   ],
   "source": [
    "_, _, _ = flops_in_folder('results/Initial_Lora/Overfit_Train.json')"
   ]
  },
  {
   "cell_type": "code",
   "execution_count": 8,
   "metadata": {},
   "outputs": [
    {
     "name": "stdout",
     "output_type": "stream",
     "text": [
      "Number of unique result files: 1\n",
      "Total Training FLOPs: 5.796e+15\n",
      "Total Evaluation FLOPs: 3.593e+14\n",
      "Total Combined FLOPs: 6.156e+15\n",
      "Percentage of Total FLOPs Budget:   6.1557 %\n"
     ]
    }
   ],
   "source": [
    "_, _, _ = flops_in_folder('results/Initial_Lora/Default_Values.json')"
   ]
  },
  {
   "cell_type": "code",
   "execution_count": 11,
   "metadata": {},
   "outputs": [
    {
     "name": "stdout",
     "output_type": "stream",
     "text": [
      "Number of unique result files: 1\n",
      "Total Training FLOPs: 0.000e+00\n",
      "Total Evaluation FLOPs: 2.083e+14\n",
      "Total Combined FLOPs: 2.083e+14\n",
      "Percentage of Total FLOPs Budget:   0.20831 %\n"
     ]
    }
   ],
   "source": [
    "_, _, _ = flops_in_folder('results/Initial_Lora/Default_Testloss.json')"
   ]
  },
  {
   "cell_type": "markdown",
   "metadata": {},
   "source": [
    "## Hyperparameter Tuning"
   ]
  },
  {
   "cell_type": "code",
   "execution_count": 5,
   "metadata": {},
   "outputs": [
    {
     "name": "stdout",
     "output_type": "stream",
     "text": [
      "Number of unique result files: 11\n",
      "Total Training FLOPs: 3.881e+16\n",
      "Total Evaluation FLOPs: 5.559e+15\n",
      "Total Combined FLOPs: 4.437e+16\n",
      "Percentage of Total FLOPs Budget:   44.367 %\n"
     ]
    }
   ],
   "source": [
    "_, _, _ = flops_in_folder('results/Hyperparam')"
   ]
  },
  {
   "cell_type": "markdown",
   "metadata": {},
   "source": [
    "## Final Training and Evaluation"
   ]
  },
  {
   "cell_type": "code",
   "execution_count": 6,
   "metadata": {},
   "outputs": [
    {
     "name": "stdout",
     "output_type": "stream",
     "text": [
      "Number of unique result files: 3\n",
      "Total Training FLOPs: 1.275e+16\n",
      "Total Evaluation FLOPs: 1.640e+15\n",
      "Total Combined FLOPs: 1.439e+16\n",
      "Percentage of Total FLOPs Budget:   14.39 %\n"
     ]
    }
   ],
   "source": [
    "_, _, _ = flops_in_folder('results/Final')"
   ]
  },
  {
   "cell_type": "markdown",
   "metadata": {},
   "source": [
    "## Breakdown\n",
    "- Training\n",
    "- Evaluation"
   ]
  },
  {
   "cell_type": "code",
   "execution_count": 12,
   "metadata": {},
   "outputs": [
    {
     "name": "stdout",
     "output_type": "stream",
     "text": [
      "Number of unique result files: 1\n",
      "Total Training FLOPs: 1.275e+16\n",
      "Total Evaluation FLOPs: 1.363e+15\n",
      "Total Combined FLOPs: 1.411e+16\n",
      "Percentage of Total FLOPs Budget:   14.113 %\n"
     ]
    }
   ],
   "source": [
    "_, _, _ = flops_in_folder('results/Final/FinalTraining.json')"
   ]
  },
  {
   "cell_type": "code",
   "execution_count": 13,
   "metadata": {},
   "outputs": [
    {
     "name": "stdout",
     "output_type": "stream",
     "text": [
      "Number of unique result files: 1\n",
      "Total Training FLOPs: 0.000e+00\n",
      "Total Evaluation FLOPs: 2.772e+14\n",
      "Total Combined FLOPs: 2.772e+14\n",
      "Percentage of Total FLOPs Budget:   0.27718 %\n"
     ]
    }
   ],
   "source": [
    "_, _, _ = flops_in_folder('results/Final/FinalTestEval.json')"
   ]
  }
 ],
 "metadata": {
  "kernelspec": {
   "display_name": "Python (M2.5 Coursework)",
   "language": "python",
   "name": "m3cw5_py312"
  },
  "language_info": {
   "codemirror_mode": {
    "name": "ipython",
    "version": 3
   },
   "file_extension": ".py",
   "mimetype": "text/x-python",
   "name": "python",
   "nbconvert_exporter": "python",
   "pygments_lexer": "ipython3",
   "version": "3.12.7"
  }
 },
 "nbformat": 4,
 "nbformat_minor": 2
}
